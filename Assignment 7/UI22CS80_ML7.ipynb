{
  "nbformat": 4,
  "nbformat_minor": 0,
  "metadata": {
    "colab": {
      "provenance": []
    },
    "kernelspec": {
      "name": "python3",
      "display_name": "Python 3"
    },
    "language_info": {
      "name": "python"
    }
  },
  "cells": [
    {
      "cell_type": "code",
      "execution_count": null,
      "metadata": {
        "id": "YOFQvYPxnPIl"
      },
      "outputs": [],
      "source": [
        "import numpy as np\n",
        "import matplotlib.pyplot as plt\n",
        "from sklearn.linear_model import LogisticRegression\n",
        "from sklearn.datasets import make_classification\n",
        "from sklearn.model_selection import train_test_split\n",
        "from sklearn.metrics import accuracy_score, precision_score, recall_score, f1_score, classification_report"
      ]
    },
    {
      "cell_type": "markdown",
      "source": [
        "Generate Synthetic Dataset"
      ],
      "metadata": {
        "id": "jTmxvCX7nXIY"
      }
    },
    {
      "cell_type": "code",
      "source": [
        "X, y = make_classification(n_samples=1000, n_features=5, n_classes=2, random_state=42)\n",
        "X_train, X_test, y_train, y_test = train_test_split(X, y, test_size=0.2, random_state=42)"
      ],
      "metadata": {
        "id": "zakMj96anWh0"
      },
      "execution_count": null,
      "outputs": []
    },
    {
      "cell_type": "markdown",
      "source": [
        " Apply Logistic Regression"
      ],
      "metadata": {
        "id": "QFKwnnhqnrue"
      }
    },
    {
      "cell_type": "code",
      "source": [
        "log_reg = LogisticRegression()\n",
        "log_reg.fit(X_train, y_train)\n",
        "y_pred = log_reg.predict(X_test)"
      ],
      "metadata": {
        "id": "nCVBo53CnpyH"
      },
      "execution_count": null,
      "outputs": []
    },
    {
      "cell_type": "markdown",
      "source": [
        "Compute Evaluation Metrics"
      ],
      "metadata": {
        "id": "aI7ZyyninvMf"
      }
    },
    {
      "cell_type": "code",
      "source": [
        "accuracy = accuracy_score(y_test, y_pred)\n",
        "precision = precision_score(y_test, y_pred)\n",
        "recall = recall_score(y_test, y_pred)\n",
        "f1 = f1_score(y_test, y_pred)"
      ],
      "metadata": {
        "id": "SY0xPa1qntq-"
      },
      "execution_count": null,
      "outputs": []
    },
    {
      "cell_type": "code",
      "source": [
        "print(f\"Accuracy: {accuracy:.4f}\")\n",
        "print(f\"Precision: {precision:.4f}\")\n",
        "print(f\"Recall: {recall:.4f}\")\n",
        "print(f\"F1-Score: {f1:.4f}\")\n",
        "print(\"Classification Report:\\n\", classification_report(y_test, y_pred))"
      ],
      "metadata": {
        "colab": {
          "base_uri": "https://localhost:8080/"
        },
        "id": "v4QLIqcKnydf",
        "outputId": "ad156ced-a3c1-4255-f62e-e9e7bdaf56ed"
      },
      "execution_count": null,
      "outputs": [
        {
          "output_type": "stream",
          "name": "stdout",
          "text": [
            "Accuracy: 0.8800\n",
            "Precision: 0.9158\n",
            "Recall: 0.8447\n",
            "F1-Score: 0.8788\n",
            "Classification Report:\n",
            "               precision    recall  f1-score   support\n",
            "\n",
            "           0       0.85      0.92      0.88        97\n",
            "           1       0.92      0.84      0.88       103\n",
            "\n",
            "    accuracy                           0.88       200\n",
            "   macro avg       0.88      0.88      0.88       200\n",
            "weighted avg       0.88      0.88      0.88       200\n",
            "\n"
          ]
        }
      ]
    },
    {
      "cell_type": "markdown",
      "source": [
        "Multi-Class Logistic Regression using Softmax"
      ],
      "metadata": {
        "id": "XSkqDzNen2-m"
      }
    },
    {
      "cell_type": "code",
      "source": [
        "X_multi, y_multi = make_classification(n_samples=1000, n_features=5, n_classes=3, n_informative=3, random_state=42)\n",
        "X_train, X_test, y_train, y_test = train_test_split(X_multi, y_multi, test_size=0.2, random_state=42)\n",
        "\n",
        "softmax_reg = LogisticRegression(solver='lbfgs')\n",
        "softmax_reg.fit(X_train, y_train)\n",
        "y_pred_multi = softmax_reg.predict(X_test)"
      ],
      "metadata": {
        "id": "WchIfYjEn0ls"
      },
      "execution_count": null,
      "outputs": []
    },
    {
      "cell_type": "markdown",
      "source": [
        "Compute Evaluation Metrics for Multi-Class"
      ],
      "metadata": {
        "id": "XewTtl0ioIjk"
      }
    },
    {
      "cell_type": "code",
      "source": [
        "print(\"Multi-Class Classification Report:\\n\", classification_report(y_test, y_pred_multi))"
      ],
      "metadata": {
        "colab": {
          "base_uri": "https://localhost:8080/"
        },
        "id": "bDCfUuR5n6mB",
        "outputId": "f8c00d4e-1232-42b8-dc80-bbe3a039a29f"
      },
      "execution_count": null,
      "outputs": [
        {
          "output_type": "stream",
          "name": "stdout",
          "text": [
            "Multi-Class Classification Report:\n",
            "               precision    recall  f1-score   support\n",
            "\n",
            "           0       0.63      0.66      0.64        67\n",
            "           1       0.52      0.42      0.47        73\n",
            "           2       0.74      0.87      0.80        60\n",
            "\n",
            "    accuracy                           0.64       200\n",
            "   macro avg       0.63      0.65      0.64       200\n",
            "weighted avg       0.62      0.64      0.63       200\n",
            "\n"
          ]
        }
      ]
    },
    {
      "cell_type": "code",
      "source": [],
      "metadata": {
        "id": "MumbSRh5oMO-"
      },
      "execution_count": null,
      "outputs": []
    }
  ]
}