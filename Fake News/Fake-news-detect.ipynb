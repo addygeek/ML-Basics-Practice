{
 "cells": [
  {
   "cell_type": "code",
   "execution_count": 52,
   "id": "3785ccc5-e93a-4900-b1b5-a64a8bfe916b",
   "metadata": {},
   "outputs": [],
   "source": [
    "import numpy as np\n",
    "import pandas as pd\n",
    "import itertools\n",
    "from sklearn.model_selection import train_test_split\n",
    "from sklearn.feature_extraction.text import TfidfVectorizer\n",
    "from sklearn.linear_model import PassiveAggressiveClassifier\n",
    "from sklearn.metrics import accuracy_score, confusion_matrix"
   ]
  },
  {
   "cell_type": "code",
   "execution_count": 10,
   "id": "cda1dc67-7842-44fc-8f56-8fd081b68796",
   "metadata": {},
   "outputs": [
    {
     "data": {
      "text/html": [
       "<div>\n",
       "<style scoped>\n",
       "    .dataframe tbody tr th:only-of-type {\n",
       "        vertical-align: middle;\n",
       "    }\n",
       "\n",
       "    .dataframe tbody tr th {\n",
       "        vertical-align: top;\n",
       "    }\n",
       "\n",
       "    .dataframe thead th {\n",
       "        text-align: right;\n",
       "    }\n",
       "</style>\n",
       "<table border=\"1\" class=\"dataframe\">\n",
       "  <thead>\n",
       "    <tr style=\"text-align: right;\">\n",
       "      <th></th>\n",
       "      <th>Unnamed: 0</th>\n",
       "      <th>title</th>\n",
       "      <th>text</th>\n",
       "      <th>label</th>\n",
       "    </tr>\n",
       "  </thead>\n",
       "  <tbody>\n",
       "    <tr>\n",
       "      <th>0</th>\n",
       "      <td>8476</td>\n",
       "      <td>You Can Smell Hillary’s Fear</td>\n",
       "      <td>Daniel Greenfield, a Shillman Journalism Fello...</td>\n",
       "      <td>FAKE</td>\n",
       "    </tr>\n",
       "    <tr>\n",
       "      <th>1</th>\n",
       "      <td>10294</td>\n",
       "      <td>Watch The Exact Moment Paul Ryan Committed Pol...</td>\n",
       "      <td>Google Pinterest Digg Linkedin Reddit Stumbleu...</td>\n",
       "      <td>FAKE</td>\n",
       "    </tr>\n",
       "    <tr>\n",
       "      <th>2</th>\n",
       "      <td>3608</td>\n",
       "      <td>Kerry to go to Paris in gesture of sympathy</td>\n",
       "      <td>U.S. Secretary of State John F. Kerry said Mon...</td>\n",
       "      <td>REAL</td>\n",
       "    </tr>\n",
       "    <tr>\n",
       "      <th>3</th>\n",
       "      <td>10142</td>\n",
       "      <td>Bernie supporters on Twitter erupt in anger ag...</td>\n",
       "      <td>— Kaydee King (@KaydeeKing) November 9, 2016 T...</td>\n",
       "      <td>FAKE</td>\n",
       "    </tr>\n",
       "    <tr>\n",
       "      <th>4</th>\n",
       "      <td>875</td>\n",
       "      <td>The Battle of New York: Why This Primary Matters</td>\n",
       "      <td>It's primary day in New York and front-runners...</td>\n",
       "      <td>REAL</td>\n",
       "    </tr>\n",
       "    <tr>\n",
       "      <th>...</th>\n",
       "      <td>...</td>\n",
       "      <td>...</td>\n",
       "      <td>...</td>\n",
       "      <td>...</td>\n",
       "    </tr>\n",
       "    <tr>\n",
       "      <th>6330</th>\n",
       "      <td>4490</td>\n",
       "      <td>State Department says it can't find emails fro...</td>\n",
       "      <td>The State Department told the Republican Natio...</td>\n",
       "      <td>REAL</td>\n",
       "    </tr>\n",
       "    <tr>\n",
       "      <th>6331</th>\n",
       "      <td>8062</td>\n",
       "      <td>The ‘P’ in PBS Should Stand for ‘Plutocratic’ ...</td>\n",
       "      <td>The ‘P’ in PBS Should Stand for ‘Plutocratic’ ...</td>\n",
       "      <td>FAKE</td>\n",
       "    </tr>\n",
       "    <tr>\n",
       "      <th>6332</th>\n",
       "      <td>8622</td>\n",
       "      <td>Anti-Trump Protesters Are Tools of the Oligarc...</td>\n",
       "      <td>Anti-Trump Protesters Are Tools of the Oligar...</td>\n",
       "      <td>FAKE</td>\n",
       "    </tr>\n",
       "    <tr>\n",
       "      <th>6333</th>\n",
       "      <td>4021</td>\n",
       "      <td>In Ethiopia, Obama seeks progress on peace, se...</td>\n",
       "      <td>ADDIS ABABA, Ethiopia —President Obama convene...</td>\n",
       "      <td>REAL</td>\n",
       "    </tr>\n",
       "    <tr>\n",
       "      <th>6334</th>\n",
       "      <td>4330</td>\n",
       "      <td>Jeb Bush Is Suddenly Attacking Trump. Here's W...</td>\n",
       "      <td>Jeb Bush Is Suddenly Attacking Trump. Here's W...</td>\n",
       "      <td>REAL</td>\n",
       "    </tr>\n",
       "  </tbody>\n",
       "</table>\n",
       "<p>6335 rows × 4 columns</p>\n",
       "</div>"
      ],
      "text/plain": [
       "      Unnamed: 0                                              title  \\\n",
       "0           8476                       You Can Smell Hillary’s Fear   \n",
       "1          10294  Watch The Exact Moment Paul Ryan Committed Pol...   \n",
       "2           3608        Kerry to go to Paris in gesture of sympathy   \n",
       "3          10142  Bernie supporters on Twitter erupt in anger ag...   \n",
       "4            875   The Battle of New York: Why This Primary Matters   \n",
       "...          ...                                                ...   \n",
       "6330        4490  State Department says it can't find emails fro...   \n",
       "6331        8062  The ‘P’ in PBS Should Stand for ‘Plutocratic’ ...   \n",
       "6332        8622  Anti-Trump Protesters Are Tools of the Oligarc...   \n",
       "6333        4021  In Ethiopia, Obama seeks progress on peace, se...   \n",
       "6334        4330  Jeb Bush Is Suddenly Attacking Trump. Here's W...   \n",
       "\n",
       "                                                   text label  \n",
       "0     Daniel Greenfield, a Shillman Journalism Fello...  FAKE  \n",
       "1     Google Pinterest Digg Linkedin Reddit Stumbleu...  FAKE  \n",
       "2     U.S. Secretary of State John F. Kerry said Mon...  REAL  \n",
       "3     — Kaydee King (@KaydeeKing) November 9, 2016 T...  FAKE  \n",
       "4     It's primary day in New York and front-runners...  REAL  \n",
       "...                                                 ...   ...  \n",
       "6330  The State Department told the Republican Natio...  REAL  \n",
       "6331  The ‘P’ in PBS Should Stand for ‘Plutocratic’ ...  FAKE  \n",
       "6332   Anti-Trump Protesters Are Tools of the Oligar...  FAKE  \n",
       "6333  ADDIS ABABA, Ethiopia —President Obama convene...  REAL  \n",
       "6334  Jeb Bush Is Suddenly Attacking Trump. Here's W...  REAL  \n",
       "\n",
       "[6335 rows x 4 columns]"
      ]
     },
     "execution_count": 10,
     "metadata": {},
     "output_type": "execute_result"
    }
   ],
   "source": [
    "df = pd.read_csv(\"news.csv\")\n",
    "df.shape\n",
    "df"
   ]
  },
  {
   "cell_type": "code",
   "execution_count": 16,
   "id": "186557bc-8daa-4b7e-aa5c-6158662dfa82",
   "metadata": {},
   "outputs": [
    {
     "data": {
      "text/plain": [
       "0       FAKE\n",
       "1       FAKE\n",
       "2       REAL\n",
       "3       FAKE\n",
       "4       REAL\n",
       "        ... \n",
       "6330    REAL\n",
       "6331    FAKE\n",
       "6332    FAKE\n",
       "6333    REAL\n",
       "6334    REAL\n",
       "Name: label, Length: 6335, dtype: object"
      ]
     },
     "execution_count": 16,
     "metadata": {},
     "output_type": "execute_result"
    }
   ],
   "source": [
    "label = df.label\n",
    "label"
   ]
  },
  {
   "cell_type": "code",
   "execution_count": 18,
   "id": "ac52cede-7116-47fb-821f-dcc724d5f6ea",
   "metadata": {},
   "outputs": [],
   "source": [
    "#split split \n",
    "x_train, x_test, y_train, y_test = train_test_split(df.text,label,test_size=0.2)"
   ]
  },
  {
   "cell_type": "code",
   "execution_count": 28,
   "id": "8afa2242-b16e-4a08-a86a-8b67b0de4146",
   "metadata": {},
   "outputs": [
    {
     "name": "stdout",
     "output_type": "stream",
     "text": [
      "(5068,)\n",
      "(1267,)\n",
      "(5068,)\n",
      "(1267,)\n"
     ]
    }
   ],
   "source": [
    "print(x_train.shape)\n",
    "print(x_test.shape)\n",
    "print(y_train.shape)\n",
    "print(y_test.shape)"
   ]
  },
  {
   "cell_type": "code",
   "execution_count": 48,
   "id": "ebd38b93-98aa-4c68-812a-968656a0f3fe",
   "metadata": {},
   "outputs": [
    {
     "name": "stdout",
     "output_type": "stream",
     "text": [
      "TfidfVectorizer(max_df=0.7, stop_words='english')\n"
     ]
    }
   ],
   "source": [
    "vector = TfidfVectorizer(stop_words=\"english\",max_df=0.7)\n",
    "print(vector)"
   ]
  },
  {
   "cell_type": "code",
   "execution_count": 56,
   "id": "c26f9ab3-8bb5-4541-8b87-43c81d921561",
   "metadata": {},
   "outputs": [
    {
     "name": "stdout",
     "output_type": "stream",
     "text": [
      "  (0, 41897)\t0.03662377619194483\n",
      "  (0, 41975)\t0.03153814584289811\n",
      "  (0, 48632)\t0.030914098908452866\n",
      "  (0, 25209)\t0.050443213081150205\n",
      "  (0, 54733)\t0.015832059621074562\n",
      "  (0, 55025)\t0.07530644105588828\n",
      "  (0, 48039)\t0.025407267532295944\n",
      "  (0, 41334)\t0.029323941069290108\n",
      "  (0, 59229)\t0.03409540666647556\n",
      "  (0, 48763)\t0.04224330321940089\n",
      "  (0, 9502)\t0.017871630000061242\n",
      "  (0, 42199)\t0.041645874085589674\n",
      "  (0, 42224)\t0.044600791608629724\n",
      "  (0, 42707)\t0.031664119242149125\n",
      "  (0, 9445)\t0.028515541729769053\n",
      "  (0, 55434)\t0.028296358226280908\n",
      "  (0, 9106)\t0.04399941530148847\n",
      "  (0, 12768)\t0.039643583985688534\n",
      "  (0, 23228)\t0.07886526988120003\n",
      "  (0, 47120)\t0.05776400454454586\n",
      "  (0, 42811)\t0.03064630768867434\n",
      "  (0, 2688)\t0.040703232924148444\n",
      "  (0, 32133)\t0.04598389369935948\n",
      "  (0, 58692)\t0.0532398798787994\n",
      "  (0, 43624)\t0.07019905811093442\n",
      "  :\t:\n",
      "  (5067, 41773)\t0.02927942043806643\n",
      "  (5067, 50118)\t0.052728338778074375\n",
      "  (5067, 21835)\t0.025642768898887735\n",
      "  (5067, 2203)\t0.02927942043806643\n",
      "  (5067, 17194)\t0.028477231224932804\n",
      "  (5067, 313)\t0.025642768898887735\n",
      "  (5067, 38238)\t0.02532996762083198\n",
      "  (5067, 16399)\t0.025985403932212974\n",
      "  (5067, 8642)\t0.0272676314083716\n",
      "  (5067, 1128)\t0.0267875931453466\n",
      "  (5067, 31912)\t0.02927942043806643\n",
      "  (5067, 43715)\t0.02782179491355181\n",
      "  (5067, 59333)\t0.0272676314083716\n",
      "  (5067, 12078)\t0.02927942043806643\n",
      "  (5067, 17244)\t0.02927942043806643\n",
      "  (5067, 3545)\t0.028477231224932804\n",
      "  (5067, 22044)\t0.028477231224932804\n",
      "  (5067, 29968)\t0.030313622206271637\n",
      "  (5067, 26504)\t0.02782179491355181\n",
      "  (5067, 39404)\t0.030313622206271637\n",
      "  (5067, 57043)\t0.03177124773078626\n",
      "  (5067, 15591)\t0.03177124773078626\n",
      "  (5067, 16401)\t0.03177124773078626\n",
      "  (5067, 43908)\t0.03177124773078626\n",
      "  (5067, 54994)\t0.03177124773078626\n"
     ]
    }
   ],
   "source": [
    "tfidf_train=vector.fit_transform(x_train) \n",
    "tfidf_test=vector.transform(x_test)\n",
    "print(tfidf_train)"
   ]
  },
  {
   "cell_type": "code",
   "execution_count": 58,
   "id": "433cff2b-51e3-4027-951e-77e49046ab82",
   "metadata": {},
   "outputs": [
    {
     "name": "stdout",
     "output_type": "stream",
     "text": [
      "Accuracy: 94.79%\n"
     ]
    }
   ],
   "source": [
    "#DataFlair - Initialize a PassiveAggressiveClassifier\n",
    "pac=PassiveAggressiveClassifier(max_iter=50)\n",
    "pac.fit(tfidf_train,y_train)\n",
    "\n",
    "#DataFlair - Predict on the test set and calculate accuracy\n",
    "y_pred=pac.predict(tfidf_test)\n",
    "score=accuracy_score(y_test,y_pred)\n",
    "print(f'Accuracy: {round(score*100,2)}%')"
   ]
  },
  {
   "cell_type": "code",
   "execution_count": 60,
   "id": "421a319d-0873-45c0-820a-944d1fbfef53",
   "metadata": {},
   "outputs": [
    {
     "data": {
      "text/plain": [
       "array([[619,  30],\n",
       "       [ 36, 582]], dtype=int64)"
      ]
     },
     "execution_count": 60,
     "metadata": {},
     "output_type": "execute_result"
    }
   ],
   "source": [
    "#DataFlair - Build confusion matrix\n",
    "confusion_matrix(y_test,y_pred, labels=['FAKE','REAL'])"
   ]
  },
  {
   "cell_type": "code",
   "execution_count": null,
   "id": "6861d1ec-3e77-495e-a814-16c7e0c1b0c1",
   "metadata": {},
   "outputs": [],
   "source": []
  }
 ],
 "metadata": {
  "kernelspec": {
   "display_name": "Python 3 (ipykernel)",
   "language": "python",
   "name": "python3"
  },
  "language_info": {
   "codemirror_mode": {
    "name": "ipython",
    "version": 3
   },
   "file_extension": ".py",
   "mimetype": "text/x-python",
   "name": "python",
   "nbconvert_exporter": "python",
   "pygments_lexer": "ipython3",
   "version": "3.12.7"
  }
 },
 "nbformat": 4,
 "nbformat_minor": 5
}
